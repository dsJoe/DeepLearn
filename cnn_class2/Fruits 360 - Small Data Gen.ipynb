{
 "cells": [
  {
   "cell_type": "code",
   "execution_count": 1,
   "metadata": {},
   "outputs": [],
   "source": [
    "import os"
   ]
  },
  {
   "cell_type": "code",
   "execution_count": 2,
   "metadata": {},
   "outputs": [],
   "source": [
    "def mkdir(p):\n",
    "    if not os.path.exists(p):\n",
    "        os.mkdir(p)\n",
    "\n",
    "\n",
    "def link(src,dst):\n",
    "    if not os.path.exists(dst):\n",
    "        os.symlink(src,dst,target_is_directory=True)"
   ]
  },
  {
   "cell_type": "code",
   "execution_count": 3,
   "metadata": {},
   "outputs": [],
   "source": [
    "mkdir('../large_files/fruits-360-small')"
   ]
  },
  {
   "cell_type": "code",
   "execution_count": 4,
   "metadata": {},
   "outputs": [],
   "source": [
    "classes = [  'Apple Golden 1',\n",
    "  'Avocado',\n",
    "  'Lemon',\n",
    "  'Mango',\n",
    "  'Kiwi',\n",
    "  'Banana',\n",
    "  'Strawberry',\n",
    "  'Raspberry']"
   ]
  },
  {
   "cell_type": "code",
   "execution_count": 5,
   "metadata": {},
   "outputs": [],
   "source": [
    "train_path_from = os.path.abspath('../large_files/fruits-360/Training/')\n",
    "valid_path_from = os.path.abspath('../large_files/fruits-360/Test/')\n",
    "\n",
    "train_path_to = os.path.abspath('../large_files/fruits-360-small/Training')\n",
    "valid_path_to = os.path.abspath('../large_files/fruits-360-small/Validation')"
   ]
  },
  {
   "cell_type": "code",
   "execution_count": 6,
   "metadata": {},
   "outputs": [],
   "source": [
    "#train_path_from"
   ]
  },
  {
   "cell_type": "code",
   "execution_count": null,
   "metadata": {},
   "outputs": [],
   "source": [
    "mkdir(train_path_to)"
   ]
  },
  {
   "cell_type": "code",
   "execution_count": 7,
   "metadata": {},
   "outputs": [
    {
     "ename": "OSError",
     "evalue": "symbolic link privilege not held",
     "output_type": "error",
     "traceback": [
      "\u001b[1;31m---------------------------------------------------------------------------\u001b[0m",
      "\u001b[1;31mOSError\u001b[0m                                   Traceback (most recent call last)",
      "\u001b[1;32m<ipython-input-7-d468bff132d9>\u001b[0m in \u001b[0;36m<module>\u001b[1;34m()\u001b[0m\n\u001b[0;32m      1\u001b[0m \u001b[1;32mfor\u001b[0m \u001b[0mc\u001b[0m \u001b[1;32min\u001b[0m \u001b[0mclasses\u001b[0m\u001b[1;33m:\u001b[0m\u001b[1;33m\u001b[0m\u001b[0m\n\u001b[0;32m      2\u001b[0m     \u001b[0mlink\u001b[0m\u001b[1;33m(\u001b[0m\u001b[0mtrain_path_from\u001b[0m \u001b[1;33m+\u001b[0m \u001b[1;34m'/'\u001b[0m \u001b[1;33m+\u001b[0m \u001b[0mc\u001b[0m\u001b[1;33m,\u001b[0m \u001b[0mtrain_path_to\u001b[0m \u001b[1;33m+\u001b[0m \u001b[1;34m'/'\u001b[0m \u001b[1;33m+\u001b[0m \u001b[0mc\u001b[0m\u001b[1;33m)\u001b[0m\u001b[1;33m\u001b[0m\u001b[0m\n\u001b[1;32m----> 3\u001b[1;33m     \u001b[0mlink\u001b[0m\u001b[1;33m(\u001b[0m\u001b[0mvalid_path_from\u001b[0m \u001b[1;33m+\u001b[0m \u001b[1;34m'/'\u001b[0m \u001b[1;33m+\u001b[0m \u001b[0mc\u001b[0m\u001b[1;33m,\u001b[0m \u001b[0mvalid_path_to\u001b[0m \u001b[1;33m+\u001b[0m \u001b[1;34m'/'\u001b[0m \u001b[1;33m+\u001b[0m \u001b[0mc\u001b[0m\u001b[1;33m)\u001b[0m\u001b[1;33m\u001b[0m\u001b[0m\n\u001b[0m",
      "\u001b[1;32m<ipython-input-2-e6f731ed0f7d>\u001b[0m in \u001b[0;36mlink\u001b[1;34m(src, dst)\u001b[0m\n\u001b[0;32m      6\u001b[0m \u001b[1;32mdef\u001b[0m \u001b[0mlink\u001b[0m\u001b[1;33m(\u001b[0m\u001b[0msrc\u001b[0m\u001b[1;33m,\u001b[0m\u001b[0mdst\u001b[0m\u001b[1;33m)\u001b[0m\u001b[1;33m:\u001b[0m\u001b[1;33m\u001b[0m\u001b[0m\n\u001b[0;32m      7\u001b[0m     \u001b[1;32mif\u001b[0m \u001b[1;32mnot\u001b[0m \u001b[0mos\u001b[0m\u001b[1;33m.\u001b[0m\u001b[0mpath\u001b[0m\u001b[1;33m.\u001b[0m\u001b[0mexists\u001b[0m\u001b[1;33m(\u001b[0m\u001b[0mdst\u001b[0m\u001b[1;33m)\u001b[0m\u001b[1;33m:\u001b[0m\u001b[1;33m\u001b[0m\u001b[0m\n\u001b[1;32m----> 8\u001b[1;33m         \u001b[0mos\u001b[0m\u001b[1;33m.\u001b[0m\u001b[0msymlink\u001b[0m\u001b[1;33m(\u001b[0m\u001b[0msrc\u001b[0m\u001b[1;33m,\u001b[0m\u001b[0mdst\u001b[0m\u001b[1;33m,\u001b[0m\u001b[0mtarget_is_directory\u001b[0m\u001b[1;33m=\u001b[0m\u001b[1;32mTrue\u001b[0m\u001b[1;33m)\u001b[0m\u001b[1;33m\u001b[0m\u001b[0m\n\u001b[0m",
      "\u001b[1;31mOSError\u001b[0m: symbolic link privilege not held"
     ]
    }
   ],
   "source": [
    "for c in classes:\n",
    "    link(train_path_from + '/' + c, train_path_to + '/' + c)\n",
    "    link(valid_path_from + '/' + c, valid_path_to + '/' + c)"
   ]
  },
  {
   "cell_type": "code",
   "execution_count": null,
   "metadata": {},
   "outputs": [],
   "source": [
    "\n",
    "# coding: utf-8\n",
    "\n",
    "# In[1]:\n",
    "\n",
    "\n",
    "import os\n",
    "\n",
    "\n",
    "# In[2]:\n",
    "\n",
    "\n",
    "def mkdir(p):\n",
    "    if not os.path.exists(p):\n",
    "        os.mkdir(p)\n",
    "\n",
    "\n",
    "def link(src,dst):\n",
    "    if not os.path.exists(dst):\n",
    "        os.symlink(src,dst,target_is_directory=True)\n",
    "\n",
    "\n",
    "# In[3]:\n",
    "\n",
    "\n",
    "mkdir('../large_files/fruits-360-small')\n",
    "\n",
    "\n",
    "# In[4]:\n",
    "\n",
    "\n",
    "classes = [  'Apple Golden 1',\n",
    "  'Avocado',\n",
    "  'Lemon',\n",
    "  'Mango',\n",
    "  'Kiwi',\n",
    "  'Banana',\n",
    "  'Strawberry',\n",
    "  'Raspberry']\n",
    "\n",
    "\n",
    "# In[5]:\n",
    "\n",
    "\n",
    "train_path_from = os.path.abspath('../large_files/fruits-360/Training/')\n",
    "valid_path_from = os.path.abspath('../large_files/fruits-360/Test/')\n",
    "\n",
    "train_path_to = os.path.abspath('../large_files/fruits-360-small/Training')\n",
    "valid_path_to = os.path.abspath('../large_files/fruits-360-small/Validation')\n",
    "\n",
    "\n",
    "# In[ ]:\n",
    "\n",
    "\n",
    "mkdir(train_path_to)\n",
    "mkdir(valid_path_to\n",
    "\n",
    "\n",
    "# In[6]:\n",
    "\n",
    "\n",
    "for c in classes:\n",
    "      link(valid_path_from + '/' + c, valid_path_to + '/' + c)"
   ]
  }
 ],
 "metadata": {
  "kernelspec": {
   "display_name": "Python 3",
   "language": "python",
   "name": "python3"
  },
  "language_info": {
   "codemirror_mode": {
    "name": "ipython",
    "version": 3
   },
   "file_extension": ".py",
   "mimetype": "text/x-python",
   "name": "python",
   "nbconvert_exporter": "python",
   "pygments_lexer": "ipython3",
   "version": "3.6.6"
  }
 },
 "nbformat": 4,
 "nbformat_minor": 2
}
